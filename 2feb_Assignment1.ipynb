{
 "cells": [
  {
   "cell_type": "markdown",
   "id": "452c0bbf-e9dc-494a-abea-afd9aeffddaa",
   "metadata": {},
   "source": [
    "**Q1**.What are the characteristics of the tuples? Is tuple immutable?"
   ]
  },
  {
   "cell_type": "markdown",
   "id": "df0338b4-3a12-4115-add2-dbc9612a9c9a",
   "metadata": {},
   "source": [
    "**Answer**-Characterstics of tupels:\n",
    "\n",
    "    1.Tuppel is a class.\n",
    "    2.Tuppel is an iterable sequence.\n",
    "    3.Tuppel element is indexed.\n",
    "    4.Tuppel can store hetrogenous elements.\n",
    "    5.Tuppel is immutable."
   ]
  },
  {
   "cell_type": "markdown",
   "id": "a2d73199-3e2f-4309-ab80-5f7ce13c416c",
   "metadata": {},
   "source": [
    "**Q2.** What are the two tuple methods in python? Give an example of each method. Give a reason why \n",
    "tuples have only two in-built methods as compared to Lists."
   ]
  },
  {
   "cell_type": "markdown",
   "id": "86e7fed3-ad56-457f-ba62-f618141119d8",
   "metadata": {},
   "source": [
    "**Answer-**\n",
    "count() and index() are two tuple built in methods."
   ]
  },
  {
   "cell_type": "code",
   "execution_count": 3,
   "id": "30b627a7-0b7d-44fc-94e2-1c158338150b",
   "metadata": {},
   "outputs": [],
   "source": [
    " t=(1,2,3,4)"
   ]
  },
  {
   "cell_type": "code",
   "execution_count": 5,
   "id": "127be2a2-b69d-4a5f-bafb-bdfb1e636ad3",
   "metadata": {},
   "outputs": [
    {
     "data": {
      "text/plain": [
       "1"
      ]
     },
     "execution_count": 5,
     "metadata": {},
     "output_type": "execute_result"
    }
   ],
   "source": [
    "t.count(3)"
   ]
  },
  {
   "cell_type": "code",
   "execution_count": 6,
   "id": "88c4a6b9-c835-4124-9b62-7109cc2fd80e",
   "metadata": {},
   "outputs": [
    {
     "data": {
      "text/plain": [
       "3"
      ]
     },
     "execution_count": 6,
     "metadata": {},
     "output_type": "execute_result"
    }
   ],
   "source": [
    "t.index(4)"
   ]
  },
  {
   "cell_type": "markdown",
   "id": "326c3b41-2614-4e21-bd9f-0c8f10a4bc74",
   "metadata": {},
   "source": [
    "As tuppels is immutable itrable sequence but list is mutable ,this is the reason taht tupples have only two in-built method."
   ]
  },
  {
   "cell_type": "markdown",
   "id": "a36efacc-8d55-41cb-b791-2dc1c31d5730",
   "metadata": {},
   "source": [
    "**Q3**.  Which collection datatypes in python do not allow duplicate items? Write a code using a set to remove \n",
    "duplicates from the given list.\n",
    "\n",
    "\n",
    "List = [1, 1, 1, 2, 1, 3, 1, 4, 2, 1, 2, 2, 2, 3, 2, 4, 3, 1, 3, 2, 3, 3, 3, 4, 4, 1, 4, 2, 4, 3, 4, 4]"
   ]
  },
  {
   "cell_type": "markdown",
   "id": "c44fa8c6-9eb9-465b-a328-f9898b7c1564",
   "metadata": {},
   "source": [
    "**Answer:**\n",
    "Set does not allow duplicate items."
   ]
  },
  {
   "cell_type": "code",
   "execution_count": 8,
   "id": "46ca2e08-330d-42c0-8104-c879ccbfb6a2",
   "metadata": {},
   "outputs": [],
   "source": [
    "l1 = [1, 1, 1, 2, 1, 3, 1, 4, 2, 1, 2, 2, 2, 3, 2, 4, 3, 1, 3, 2, 3, 3, 3, 4, 4, 1, 4, 2, 4, 3, 4, 4]"
   ]
  },
  {
   "cell_type": "code",
   "execution_count": 9,
   "id": "89a2f825-f240-4ddd-9833-497eda10f142",
   "metadata": {},
   "outputs": [
    {
     "data": {
      "text/plain": [
       "[1, 2, 3, 4]"
      ]
     },
     "execution_count": 9,
     "metadata": {},
     "output_type": "execute_result"
    }
   ],
   "source": [
    "list(set(l1))"
   ]
  },
  {
   "cell_type": "markdown",
   "id": "012eaf32-dcc7-44f3-94d2-f77b29405c7f",
   "metadata": {},
   "source": [
    "**Q4.** Explain the difference between the union() and update() methods for a set. Give an example of \n",
    "each method."
   ]
  },
  {
   "cell_type": "markdown",
   "id": "f88f1239-30a3-4b06-ba27-79e8a7e3c1bf",
   "metadata": {},
   "source": [
    "As we know that a set does not contain duplicate elements so union() and update gives same result but when we use union we get result as a new set and when we use update we get a update set."
   ]
  },
  {
   "cell_type": "code",
   "execution_count": 11,
   "id": "14a76851-12d2-4119-9b0e-f88ae67ab9d9",
   "metadata": {},
   "outputs": [],
   "source": [
    "s1={1,2,3,\"a\",\"i\",\"o\",\"u\"}\n",
    "s2={3,4,5,\"e\"}"
   ]
  },
  {
   "cell_type": "code",
   "execution_count": 18,
   "id": "cf7fb113-5adb-4b1d-acd0-66fe616b5ae1",
   "metadata": {},
   "outputs": [
    {
     "data": {
      "text/plain": [
       "140467912793600"
      ]
     },
     "execution_count": 18,
     "metadata": {},
     "output_type": "execute_result"
    }
   ],
   "source": [
    "id(s1)"
   ]
  },
  {
   "cell_type": "code",
   "execution_count": 12,
   "id": "d9e5f6dd-6896-4fda-91cb-d7a5f43e786a",
   "metadata": {},
   "outputs": [
    {
     "data": {
      "text/plain": [
       "{1, 2, 3, 4, 5, 'a', 'e', 'i', 'o', 'u'}"
      ]
     },
     "execution_count": 12,
     "metadata": {},
     "output_type": "execute_result"
    }
   ],
   "source": [
    "s1.union(s2)"
   ]
  },
  {
   "cell_type": "code",
   "execution_count": 21,
   "id": "6e16887e-7099-43ff-a40e-738205853d8c",
   "metadata": {},
   "outputs": [],
   "source": [
    "s3=s2.union(s1)"
   ]
  },
  {
   "cell_type": "code",
   "execution_count": 22,
   "id": "55da219d-3df7-404d-b858-8f45d85914ac",
   "metadata": {},
   "outputs": [
    {
     "data": {
      "text/plain": [
       "{1, 2, 3, 4, 5, 'a', 'e', 'i', 'o', 'u'}"
      ]
     },
     "execution_count": 22,
     "metadata": {},
     "output_type": "execute_result"
    }
   ],
   "source": [
    "s3"
   ]
  },
  {
   "cell_type": "code",
   "execution_count": 14,
   "id": "755c391f-451e-4f99-87d6-77a7bc077111",
   "metadata": {},
   "outputs": [],
   "source": [
    "s1.update(s2)"
   ]
  },
  {
   "cell_type": "code",
   "execution_count": 15,
   "id": "4efe7540-fd62-416a-9e36-a0ae9d1b29b2",
   "metadata": {},
   "outputs": [
    {
     "data": {
      "text/plain": [
       "{1, 2, 3, 4, 5, 'a', 'e', 'i', 'o', 'u'}"
      ]
     },
     "execution_count": 15,
     "metadata": {},
     "output_type": "execute_result"
    }
   ],
   "source": [
    "s1"
   ]
  },
  {
   "cell_type": "code",
   "execution_count": 16,
   "id": "8de2f3ab-3a69-4b38-95de-ffefcfc10f68",
   "metadata": {},
   "outputs": [
    {
     "data": {
      "text/plain": [
       "{3, 4, 5, 'e'}"
      ]
     },
     "execution_count": 16,
     "metadata": {},
     "output_type": "execute_result"
    }
   ],
   "source": [
    "s2"
   ]
  },
  {
   "cell_type": "code",
   "execution_count": 17,
   "id": "d89dc53a-20e7-4a66-b8c8-71fadede5bad",
   "metadata": {},
   "outputs": [
    {
     "data": {
      "text/plain": [
       "140467912793600"
      ]
     },
     "execution_count": 17,
     "metadata": {},
     "output_type": "execute_result"
    }
   ],
   "source": [
    "id(s1)"
   ]
  },
  {
   "cell_type": "markdown",
   "id": "24984c04-1f3f-4cd4-99b6-267b2e233030",
   "metadata": {},
   "source": [
    "As we can see id of s1 and s1 updated are same so upadte() does not creating any new set.but union is creating a set so we can store in new set variable"
   ]
  },
  {
   "cell_type": "markdown",
   "id": "75a9768f-0276-4386-8315-c8dfdd1c77e7",
   "metadata": {},
   "source": [
    "**Q5.** What is a dictionary? Give an example. Also, state whether a dictionary is ordered or unordered"
   ]
  },
  {
   "cell_type": "markdown",
   "id": "38278804-775a-441b-96dc-32a38461d742",
   "metadata": {},
   "source": [
    "**Answer-**\n",
    "Dictionary is a class .It is not a sequence .It is iterable .Dictionary elemnts are pair of key-value and data-value.Indexing is not applicable in dictionary.Dictionary is odered."
   ]
  },
  {
   "cell_type": "code",
   "execution_count": 23,
   "id": "f187b70d-5662-48fe-b9f7-86921fd173d7",
   "metadata": {},
   "outputs": [],
   "source": [
    "d1 = {\"batch_name\":[\"impact\",\"java\",\"dsa\"],\"start_date\" : (14,15,4),\"matnor\":{\"krish\",\"sud\",\"awad\"}}"
   ]
  },
  {
   "cell_type": "code",
   "execution_count": 24,
   "id": "99ff2c7e-a250-4031-860a-10bd8f46f8f5",
   "metadata": {},
   "outputs": [
    {
     "data": {
      "text/plain": [
       "dict"
      ]
     },
     "execution_count": 24,
     "metadata": {},
     "output_type": "execute_result"
    }
   ],
   "source": [
    "type(d1)"
   ]
  },
  {
   "cell_type": "code",
   "execution_count": 25,
   "id": "a44ff8e5-0afd-4c40-8b57-e1d0a400c15a",
   "metadata": {},
   "outputs": [
    {
     "data": {
      "text/plain": [
       "{'batch_name': ['impact', 'java', 'dsa'],\n",
       " 'start_date': (14, 15, 4),\n",
       " 'matnor': {'awad', 'krish', 'sud'}}"
      ]
     },
     "execution_count": 25,
     "metadata": {},
     "output_type": "execute_result"
    }
   ],
   "source": [
    "d1"
   ]
  },
  {
   "cell_type": "markdown",
   "id": "ad109f6c-211d-4afc-bb09-cd5dd476a825",
   "metadata": {},
   "source": [
    "**Q6**. Can we create a nested dictionary? If so, please give an example by creating a simple one-level \n",
    "nested dictionary."
   ]
  },
  {
   "cell_type": "markdown",
   "id": "c5bce511-ec38-4a9d-96ee-04e1c7bf19cd",
   "metadata": {},
   "source": [
    "**Answer**-\n",
    "Yes we can crate a nested dictionary taking dictionary as a value of a key .**EX**-"
   ]
  },
  {
   "cell_type": "code",
   "execution_count": 29,
   "id": "105149f5-c51c-4673-85c4-534d60832e62",
   "metadata": {},
   "outputs": [],
   "source": [
    "d2 = {\"key\":\"awadhesh\"}"
   ]
  },
  {
   "cell_type": "code",
   "execution_count": 30,
   "id": "2eba86a9-d27a-425d-b01c-e671dbec92e5",
   "metadata": {},
   "outputs": [
    {
     "data": {
      "text/plain": [
       "{'key': 'awadhesh'}"
      ]
     },
     "execution_count": 30,
     "metadata": {},
     "output_type": "execute_result"
    }
   ],
   "source": [
    "d2"
   ]
  },
  {
   "cell_type": "code",
   "execution_count": 33,
   "id": "56325a61-c273-4cbb-b9de-5effd0a3eb2b",
   "metadata": {},
   "outputs": [],
   "source": [
    "d3={\"key1\":{\"key\":\"awadhesh\"}}"
   ]
  },
  {
   "cell_type": "code",
   "execution_count": 34,
   "id": "81026e78-e1b2-415a-a143-6227aa2a7352",
   "metadata": {},
   "outputs": [
    {
     "data": {
      "text/plain": [
       "{'key1': {'key': 'awadhesh'}}"
      ]
     },
     "execution_count": 34,
     "metadata": {},
     "output_type": "execute_result"
    }
   ],
   "source": [
    "d3"
   ]
  },
  {
   "cell_type": "markdown",
   "id": "4f0b475d-d3d5-495f-8a37-7eef810ad650",
   "metadata": {},
   "source": [
    "**Q7**. Using setdefault() method, create key named topics in the given dictionary and also add the value of \n",
    "the key as this list ['Python', 'Machine Learning’, 'Deep Learning']\n",
    "\n",
    "\n",
    "dict1 = {'language' : 'Python', 'course': 'Data Science Masters'}"
   ]
  },
  {
   "cell_type": "code",
   "execution_count": 1,
   "id": "c5dbbc65-9168-48af-9691-2b87ce36ef4f",
   "metadata": {},
   "outputs": [],
   "source": [
    "dict1 = {'language' : 'Python', 'course': 'Data Science Masters'}"
   ]
  },
  {
   "cell_type": "code",
   "execution_count": 3,
   "id": "7d6099b5-fcbf-4c12-8ab5-0b51e260b90d",
   "metadata": {},
   "outputs": [
    {
     "data": {
      "text/plain": [
       "dict_keys(['language', 'course'])"
      ]
     },
     "execution_count": 3,
     "metadata": {},
     "output_type": "execute_result"
    }
   ],
   "source": [
    "dict1.keys()"
   ]
  },
  {
   "cell_type": "code",
   "execution_count": 7,
   "id": "e1d012ef-b1be-48d9-95ec-4c4fc5df0914",
   "metadata": {},
   "outputs": [],
   "source": [
    "dict1[\"key\"]=\"['Python', 'Machine Learning’, 'Deep Learning']\""
   ]
  },
  {
   "cell_type": "code",
   "execution_count": 8,
   "id": "90aca97c-db17-4e13-8297-31641ec8f9a7",
   "metadata": {},
   "outputs": [
    {
     "data": {
      "text/plain": [
       "{'language': 'Python',\n",
       " 'course': 'Data Science Masters',\n",
       " 'key': \"['Python', 'Machine Learning’, 'Deep Learning']\"}"
      ]
     },
     "execution_count": 8,
     "metadata": {},
     "output_type": "execute_result"
    }
   ],
   "source": [
    "dict1"
   ]
  },
  {
   "cell_type": "markdown",
   "id": "e3969fde-0b5a-4847-9850-55652739ce46",
   "metadata": {},
   "source": [
    "**Q8**. What are the three view objects in dictionaries? Use the three in-built methods in python to display \n",
    "these three view objects for the given dictionary.\n",
    "\n",
    "\n",
    "dict1 = {'Sport': 'Cricket' , 'Teams': ['India', 'Australia', 'England', 'South Africa', 'Sri Lanka', 'New Zealand']}"
   ]
  },
  {
   "cell_type": "markdown",
   "id": "a45a9b7b-5156-432e-a2ef-f1e90694aa3a",
   "metadata": {},
   "source": [
    "**Answer**-These three are view object:\n",
    "\n",
    "           - dict.keys()\n",
    "           - dict.values()\n",
    "          - dict.items()"
   ]
  },
  {
   "cell_type": "code",
   "execution_count": 35,
   "id": "a45c5940-9f30-4d4d-807f-b8d9d81d5dff",
   "metadata": {},
   "outputs": [],
   "source": [
    "dict1 = {'Sport': 'Cricket' , 'Teams': ['India', 'Australia', 'England', 'South Africa', 'Sri Lanka', 'New Zealand']}"
   ]
  },
  {
   "cell_type": "code",
   "execution_count": 36,
   "id": "9aa44a3d-01de-4315-b6b0-0710a4d4aaf7",
   "metadata": {},
   "outputs": [
    {
     "data": {
      "text/plain": [
       "dict_keys(['Sport', 'Teams'])"
      ]
     },
     "execution_count": 36,
     "metadata": {},
     "output_type": "execute_result"
    }
   ],
   "source": [
    "dict1.keys()"
   ]
  },
  {
   "cell_type": "code",
   "execution_count": 37,
   "id": "47bcd253-eaf0-412c-ba80-3e0b27cbe1c1",
   "metadata": {},
   "outputs": [
    {
     "data": {
      "text/plain": [
       "dict_values(['Cricket', ['India', 'Australia', 'England', 'South Africa', 'Sri Lanka', 'New Zealand']])"
      ]
     },
     "execution_count": 37,
     "metadata": {},
     "output_type": "execute_result"
    }
   ],
   "source": [
    "dict1.values()"
   ]
  },
  {
   "cell_type": "code",
   "execution_count": 39,
   "id": "63b093f3-7584-4d4f-b833-561b854bcb7c",
   "metadata": {},
   "outputs": [
    {
     "data": {
      "text/plain": [
       "dict_items([('Sport', 'Cricket'), ('Teams', ['India', 'Australia', 'England', 'South Africa', 'Sri Lanka', 'New Zealand'])])"
      ]
     },
     "execution_count": 39,
     "metadata": {},
     "output_type": "execute_result"
    }
   ],
   "source": [
    "dict1.items()"
   ]
  },
  {
   "cell_type": "code",
   "execution_count": null,
   "id": "a5a487a7-7df3-4651-81aa-582f5f6a1a31",
   "metadata": {},
   "outputs": [],
   "source": []
  }
 ],
 "metadata": {
  "kernelspec": {
   "display_name": "Python 3 (ipykernel)",
   "language": "python",
   "name": "python3"
  },
  "language_info": {
   "codemirror_mode": {
    "name": "ipython",
    "version": 3
   },
   "file_extension": ".py",
   "mimetype": "text/x-python",
   "name": "python",
   "nbconvert_exporter": "python",
   "pygments_lexer": "ipython3",
   "version": "3.10.8"
  }
 },
 "nbformat": 4,
 "nbformat_minor": 5
}
